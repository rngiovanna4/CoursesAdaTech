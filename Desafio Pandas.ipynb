{
 "cells": [
  {
   "cell_type": "markdown",
   "id": "ec95b9e4",
   "metadata": {},
   "source": [
    "# Desafio Pessoal"
   ]
  },
  {
   "cell_type": "markdown",
   "id": "31930027",
   "metadata": {},
   "source": [
    "## Meu objetivo foi carregar uma base de dados de resultados de um Cross Validation e criar uma função que tira a média dos 5 folds segundo a métrica F1-Score para cada classe em cada técnica de classificação."
   ]
  },
  {
   "cell_type": "code",
   "execution_count": 98,
   "id": "94ec3e15",
   "metadata": {},
   "outputs": [],
   "source": [
    "import pandas as pd\n",
    "import numpy as np"
   ]
  },
  {
   "cell_type": "code",
   "execution_count": 128,
   "id": "382b9f41",
   "metadata": {},
   "outputs": [],
   "source": [
    "#Lendo/Acessando a base\n",
    "df = pd.read_csv('Results.csv')"
   ]
  },
  {
   "cell_type": "code",
   "execution_count": 127,
   "id": "73d09b92",
   "metadata": {},
   "outputs": [
    {
     "data": {
      "text/html": [
       "<div>\n",
       "<style scoped>\n",
       "    .dataframe tbody tr th:only-of-type {\n",
       "        vertical-align: middle;\n",
       "    }\n",
       "\n",
       "    .dataframe tbody tr th {\n",
       "        vertical-align: top;\n",
       "    }\n",
       "\n",
       "    .dataframe thead th {\n",
       "        text-align: right;\n",
       "    }\n",
       "</style>\n",
       "<table border=\"1\" class=\"dataframe\">\n",
       "  <thead>\n",
       "    <tr style=\"text-align: right;\">\n",
       "      <th></th>\n",
       "      <th>Unnamed: 0</th>\n",
       "      <th>precision</th>\n",
       "      <th>recall</th>\n",
       "      <th>f1-score</th>\n",
       "      <th>support</th>\n",
       "      <th>Fold</th>\n",
       "      <th>Classif.</th>\n",
       "    </tr>\n",
       "  </thead>\n",
       "  <tbody>\n",
       "    <tr>\n",
       "      <th>0</th>\n",
       "      <td>Dropout</td>\n",
       "      <td>0.82</td>\n",
       "      <td>0.63</td>\n",
       "      <td>0.71</td>\n",
       "      <td>285.00</td>\n",
       "      <td>Fold_1</td>\n",
       "      <td>DecisionTree</td>\n",
       "    </tr>\n",
       "    <tr>\n",
       "      <th>1</th>\n",
       "      <td>Enrolled</td>\n",
       "      <td>0.40</td>\n",
       "      <td>0.48</td>\n",
       "      <td>0.44</td>\n",
       "      <td>159.00</td>\n",
       "      <td>Fold_1</td>\n",
       "      <td>DecisionTree</td>\n",
       "    </tr>\n",
       "    <tr>\n",
       "      <th>2</th>\n",
       "      <td>Graduate</td>\n",
       "      <td>0.78</td>\n",
       "      <td>0.84</td>\n",
       "      <td>0.81</td>\n",
       "      <td>441.00</td>\n",
       "      <td>Fold_1</td>\n",
       "      <td>DecisionTree</td>\n",
       "    </tr>\n",
       "    <tr>\n",
       "      <th>3</th>\n",
       "      <td>accuracy</td>\n",
       "      <td>0.71</td>\n",
       "      <td>0.71</td>\n",
       "      <td>0.71</td>\n",
       "      <td>0.71</td>\n",
       "      <td>Fold_1</td>\n",
       "      <td>DecisionTree</td>\n",
       "    </tr>\n",
       "    <tr>\n",
       "      <th>4</th>\n",
       "      <td>macro avg</td>\n",
       "      <td>0.67</td>\n",
       "      <td>0.65</td>\n",
       "      <td>0.65</td>\n",
       "      <td>885.00</td>\n",
       "      <td>Fold_1</td>\n",
       "      <td>DecisionTree</td>\n",
       "    </tr>\n",
       "    <tr>\n",
       "      <th>...</th>\n",
       "      <td>...</td>\n",
       "      <td>...</td>\n",
       "      <td>...</td>\n",
       "      <td>...</td>\n",
       "      <td>...</td>\n",
       "      <td>...</td>\n",
       "      <td>...</td>\n",
       "    </tr>\n",
       "    <tr>\n",
       "      <th>175</th>\n",
       "      <td>Enrolled</td>\n",
       "      <td>0.41</td>\n",
       "      <td>0.54</td>\n",
       "      <td>0.47</td>\n",
       "      <td>158.00</td>\n",
       "      <td>Fold_5</td>\n",
       "      <td>SVM</td>\n",
       "    </tr>\n",
       "    <tr>\n",
       "      <th>176</th>\n",
       "      <td>Graduate</td>\n",
       "      <td>0.82</td>\n",
       "      <td>0.80</td>\n",
       "      <td>0.81</td>\n",
       "      <td>442.00</td>\n",
       "      <td>Fold_5</td>\n",
       "      <td>SVM</td>\n",
       "    </tr>\n",
       "    <tr>\n",
       "      <th>177</th>\n",
       "      <td>accuracy</td>\n",
       "      <td>0.71</td>\n",
       "      <td>0.71</td>\n",
       "      <td>0.71</td>\n",
       "      <td>0.71</td>\n",
       "      <td>Fold_5</td>\n",
       "      <td>SVM</td>\n",
       "    </tr>\n",
       "    <tr>\n",
       "      <th>178</th>\n",
       "      <td>macro avg</td>\n",
       "      <td>0.68</td>\n",
       "      <td>0.67</td>\n",
       "      <td>0.67</td>\n",
       "      <td>884.00</td>\n",
       "      <td>Fold_5</td>\n",
       "      <td>SVM</td>\n",
       "    </tr>\n",
       "    <tr>\n",
       "      <th>179</th>\n",
       "      <td>weighted avg</td>\n",
       "      <td>0.74</td>\n",
       "      <td>0.71</td>\n",
       "      <td>0.72</td>\n",
       "      <td>884.00</td>\n",
       "      <td>Fold_5</td>\n",
       "      <td>SVM</td>\n",
       "    </tr>\n",
       "  </tbody>\n",
       "</table>\n",
       "<p>180 rows × 7 columns</p>\n",
       "</div>"
      ],
      "text/plain": [
       "       Unnamed: 0  precision  recall  f1-score  support    Fold      Classif.\n",
       "0         Dropout       0.82    0.63      0.71   285.00  Fold_1  DecisionTree\n",
       "1        Enrolled       0.40    0.48      0.44   159.00  Fold_1  DecisionTree\n",
       "2        Graduate       0.78    0.84      0.81   441.00  Fold_1  DecisionTree\n",
       "3        accuracy       0.71    0.71      0.71     0.71  Fold_1  DecisionTree\n",
       "4       macro avg       0.67    0.65      0.65   885.00  Fold_1  DecisionTree\n",
       "..            ...        ...     ...       ...      ...     ...           ...\n",
       "175      Enrolled       0.41    0.54      0.47   158.00  Fold_5           SVM\n",
       "176      Graduate       0.82    0.80      0.81   442.00  Fold_5           SVM\n",
       "177      accuracy       0.71    0.71      0.71     0.71  Fold_5           SVM\n",
       "178     macro avg       0.68    0.67      0.67   884.00  Fold_5           SVM\n",
       "179  weighted avg       0.74    0.71      0.72   884.00  Fold_5           SVM\n",
       "\n",
       "[180 rows x 7 columns]"
      ]
     },
     "execution_count": 127,
     "metadata": {},
     "output_type": "execute_result"
    }
   ],
   "source": [
    "#Visualizando a base\n",
    "df"
   ]
  },
  {
   "cell_type": "code",
   "execution_count": 66,
   "id": "c646a451",
   "metadata": {},
   "outputs": [
    {
     "data": {
      "text/plain": [
       "DecisionTree         30\n",
       "NaiveBayes           30\n",
       "KNN                  30\n",
       "LogisticRegressio    30\n",
       "RandomForest         30\n",
       "SVM                  30\n",
       "Name: Classif., dtype: int64"
      ]
     },
     "execution_count": 66,
     "metadata": {},
     "output_type": "execute_result"
    }
   ],
   "source": [
    "#Conhecendo as técnicas presentes no dataframe ao consultar os valores que compôe a referida coluna\n",
    "df['Classif.'].value_counts()"
   ]
  },
  {
   "cell_type": "code",
   "execution_count": 131,
   "id": "d886a036",
   "metadata": {},
   "outputs": [
    {
     "data": {
      "text/plain": [
       "Dropout         30\n",
       "Enrolled        30\n",
       "Graduate        30\n",
       "accuracy        30\n",
       "macro avg       30\n",
       "weighted avg    30\n",
       "Name: Unnamed: 0, dtype: int64"
      ]
     },
     "execution_count": 131,
     "metadata": {},
     "output_type": "execute_result"
    }
   ],
   "source": [
    "#Conhecendo as classes presentes no dataframe\n",
    "df['Unnamed: 0'].value_counts()"
   ]
  },
  {
   "cell_type": "markdown",
   "id": "003259de",
   "metadata": {},
   "source": [
    "Como eu precisava filtrar a base, decidi realizar testes com as máscaras e ver o que cada uma apresentava"
   ]
  },
  {
   "cell_type": "code",
   "execution_count": 107,
   "id": "453c4d32",
   "metadata": {},
   "outputs": [],
   "source": [
    "filter1 = df['Classif.'] == 'DecisionTree'\n",
    "filter1 = df[filter1]"
   ]
  },
  {
   "cell_type": "code",
   "execution_count": 94,
   "id": "6269124d",
   "metadata": {},
   "outputs": [],
   "source": [
    "filter2 = filter1['Unnamed: 0'] == 'Graduate'"
   ]
  },
  {
   "cell_type": "code",
   "execution_count": 95,
   "id": "061a853e",
   "metadata": {},
   "outputs": [],
   "source": [
    "GDT = filter1[filter2]"
   ]
  },
  {
   "cell_type": "code",
   "execution_count": 132,
   "id": "7cff9a48",
   "metadata": {},
   "outputs": [
    {
     "data": {
      "text/html": [
       "<div>\n",
       "<style scoped>\n",
       "    .dataframe tbody tr th:only-of-type {\n",
       "        vertical-align: middle;\n",
       "    }\n",
       "\n",
       "    .dataframe tbody tr th {\n",
       "        vertical-align: top;\n",
       "    }\n",
       "\n",
       "    .dataframe thead th {\n",
       "        text-align: right;\n",
       "    }\n",
       "</style>\n",
       "<table border=\"1\" class=\"dataframe\">\n",
       "  <thead>\n",
       "    <tr style=\"text-align: right;\">\n",
       "      <th></th>\n",
       "      <th>Unnamed: 0</th>\n",
       "      <th>precision</th>\n",
       "      <th>recall</th>\n",
       "      <th>f1-score</th>\n",
       "      <th>support</th>\n",
       "      <th>Fold</th>\n",
       "      <th>Classif.</th>\n",
       "    </tr>\n",
       "  </thead>\n",
       "  <tbody>\n",
       "    <tr>\n",
       "      <th>2</th>\n",
       "      <td>Graduate</td>\n",
       "      <td>0.78</td>\n",
       "      <td>0.84</td>\n",
       "      <td>0.81</td>\n",
       "      <td>441.0</td>\n",
       "      <td>Fold_1</td>\n",
       "      <td>DecisionTree</td>\n",
       "    </tr>\n",
       "    <tr>\n",
       "      <th>38</th>\n",
       "      <td>Graduate</td>\n",
       "      <td>0.83</td>\n",
       "      <td>0.78</td>\n",
       "      <td>0.80</td>\n",
       "      <td>442.0</td>\n",
       "      <td>Fold_2</td>\n",
       "      <td>DecisionTree</td>\n",
       "    </tr>\n",
       "    <tr>\n",
       "      <th>74</th>\n",
       "      <td>Graduate</td>\n",
       "      <td>0.82</td>\n",
       "      <td>0.85</td>\n",
       "      <td>0.84</td>\n",
       "      <td>442.0</td>\n",
       "      <td>Fold_3</td>\n",
       "      <td>DecisionTree</td>\n",
       "    </tr>\n",
       "    <tr>\n",
       "      <th>110</th>\n",
       "      <td>Graduate</td>\n",
       "      <td>0.78</td>\n",
       "      <td>0.89</td>\n",
       "      <td>0.83</td>\n",
       "      <td>442.0</td>\n",
       "      <td>Fold_4</td>\n",
       "      <td>DecisionTree</td>\n",
       "    </tr>\n",
       "    <tr>\n",
       "      <th>146</th>\n",
       "      <td>Graduate</td>\n",
       "      <td>0.78</td>\n",
       "      <td>0.86</td>\n",
       "      <td>0.82</td>\n",
       "      <td>442.0</td>\n",
       "      <td>Fold_5</td>\n",
       "      <td>DecisionTree</td>\n",
       "    </tr>\n",
       "  </tbody>\n",
       "</table>\n",
       "</div>"
      ],
      "text/plain": [
       "    Unnamed: 0  precision  recall  f1-score  support    Fold      Classif.\n",
       "2     Graduate       0.78    0.84      0.81    441.0  Fold_1  DecisionTree\n",
       "38    Graduate       0.83    0.78      0.80    442.0  Fold_2  DecisionTree\n",
       "74    Graduate       0.82    0.85      0.84    442.0  Fold_3  DecisionTree\n",
       "110   Graduate       0.78    0.89      0.83    442.0  Fold_4  DecisionTree\n",
       "146   Graduate       0.78    0.86      0.82    442.0  Fold_5  DecisionTree"
      ]
     },
     "execution_count": 132,
     "metadata": {},
     "output_type": "execute_result"
    }
   ],
   "source": [
    "GDT"
   ]
  },
  {
   "cell_type": "markdown",
   "id": "8d4da657",
   "metadata": {},
   "source": [
    "Após obter o resultado esperado, calculei a média da coluna f1-score. Após realizar esses teste, pude projetar a função que calcula a média das classes para cada técnica. "
   ]
  },
  {
   "cell_type": "code",
   "execution_count": 97,
   "id": "0098bd5b",
   "metadata": {},
   "outputs": [
    {
     "data": {
      "text/plain": [
       "0.8200000000000001"
      ]
     },
     "execution_count": 97,
     "metadata": {},
     "output_type": "execute_result"
    }
   ],
   "source": [
    "GDT['f1-score'].mean()"
   ]
  },
  {
   "cell_type": "markdown",
   "id": "24020617",
   "metadata": {},
   "source": [
    "### FUNÇÃO"
   ]
  },
  {
   "cell_type": "code",
   "execution_count": 110,
   "id": "53ebf900",
   "metadata": {},
   "outputs": [],
   "source": [
    "classifiers = ['DecisionTree', 'NaiveBayes', 'KNN', 'LogisticRegressio', 'RandomForest', 'SVM']"
   ]
  },
  {
   "cell_type": "code",
   "execution_count": 111,
   "id": "522e4d9a",
   "metadata": {},
   "outputs": [],
   "source": [
    "classes = ['Graduate', 'Dropout', 'Enrolled' ]"
   ]
  },
  {
   "cell_type": "code",
   "execution_count": 124,
   "id": "33177888",
   "metadata": {},
   "outputs": [],
   "source": [
    "def average_table (classifiers, classes, df):\n",
    "    result = {}\n",
    "    result = pd.DataFrame(result)\n",
    "    for i in classifiers:\n",
    "        filter1 = df['Classif.'] == i\n",
    "        filter1 = df[filter1]\n",
    "        for j in classes:\n",
    "            \n",
    "            filter2 = filter1['Unnamed: 0'] == j \n",
    "            dfresult = filter1[filter2]\n",
    "            avarage = dfresult['f1-score'].mean()\n",
    "            result = result.append({'Classifiers': i, 'Class': j, 'Average': avarage}, ignore_index = True)\n",
    "    return result\n",
    "            "
   ]
  },
  {
   "cell_type": "code",
   "execution_count": 126,
   "id": "dbb17493",
   "metadata": {},
   "outputs": [
    {
     "name": "stderr",
     "output_type": "stream",
     "text": [
      "C:\\Users\\Giovanna\\AppData\\Local\\Temp\\ipykernel_9612\\1636128820.py:12: FutureWarning: The frame.append method is deprecated and will be removed from pandas in a future version. Use pandas.concat instead.\n",
      "  result = result.append({'Classifiers': i, 'Class': j, 'Average': avarage}, ignore_index = True)\n",
      "C:\\Users\\Giovanna\\AppData\\Local\\Temp\\ipykernel_9612\\1636128820.py:12: FutureWarning: The frame.append method is deprecated and will be removed from pandas in a future version. Use pandas.concat instead.\n",
      "  result = result.append({'Classifiers': i, 'Class': j, 'Average': avarage}, ignore_index = True)\n",
      "C:\\Users\\Giovanna\\AppData\\Local\\Temp\\ipykernel_9612\\1636128820.py:12: FutureWarning: The frame.append method is deprecated and will be removed from pandas in a future version. Use pandas.concat instead.\n",
      "  result = result.append({'Classifiers': i, 'Class': j, 'Average': avarage}, ignore_index = True)\n",
      "C:\\Users\\Giovanna\\AppData\\Local\\Temp\\ipykernel_9612\\1636128820.py:12: FutureWarning: The frame.append method is deprecated and will be removed from pandas in a future version. Use pandas.concat instead.\n",
      "  result = result.append({'Classifiers': i, 'Class': j, 'Average': avarage}, ignore_index = True)\n",
      "C:\\Users\\Giovanna\\AppData\\Local\\Temp\\ipykernel_9612\\1636128820.py:12: FutureWarning: The frame.append method is deprecated and will be removed from pandas in a future version. Use pandas.concat instead.\n",
      "  result = result.append({'Classifiers': i, 'Class': j, 'Average': avarage}, ignore_index = True)\n",
      "C:\\Users\\Giovanna\\AppData\\Local\\Temp\\ipykernel_9612\\1636128820.py:12: FutureWarning: The frame.append method is deprecated and will be removed from pandas in a future version. Use pandas.concat instead.\n",
      "  result = result.append({'Classifiers': i, 'Class': j, 'Average': avarage}, ignore_index = True)\n",
      "C:\\Users\\Giovanna\\AppData\\Local\\Temp\\ipykernel_9612\\1636128820.py:12: FutureWarning: The frame.append method is deprecated and will be removed from pandas in a future version. Use pandas.concat instead.\n",
      "  result = result.append({'Classifiers': i, 'Class': j, 'Average': avarage}, ignore_index = True)\n",
      "C:\\Users\\Giovanna\\AppData\\Local\\Temp\\ipykernel_9612\\1636128820.py:12: FutureWarning: The frame.append method is deprecated and will be removed from pandas in a future version. Use pandas.concat instead.\n",
      "  result = result.append({'Classifiers': i, 'Class': j, 'Average': avarage}, ignore_index = True)\n",
      "C:\\Users\\Giovanna\\AppData\\Local\\Temp\\ipykernel_9612\\1636128820.py:12: FutureWarning: The frame.append method is deprecated and will be removed from pandas in a future version. Use pandas.concat instead.\n",
      "  result = result.append({'Classifiers': i, 'Class': j, 'Average': avarage}, ignore_index = True)\n",
      "C:\\Users\\Giovanna\\AppData\\Local\\Temp\\ipykernel_9612\\1636128820.py:12: FutureWarning: The frame.append method is deprecated and will be removed from pandas in a future version. Use pandas.concat instead.\n",
      "  result = result.append({'Classifiers': i, 'Class': j, 'Average': avarage}, ignore_index = True)\n",
      "C:\\Users\\Giovanna\\AppData\\Local\\Temp\\ipykernel_9612\\1636128820.py:12: FutureWarning: The frame.append method is deprecated and will be removed from pandas in a future version. Use pandas.concat instead.\n",
      "  result = result.append({'Classifiers': i, 'Class': j, 'Average': avarage}, ignore_index = True)\n",
      "C:\\Users\\Giovanna\\AppData\\Local\\Temp\\ipykernel_9612\\1636128820.py:12: FutureWarning: The frame.append method is deprecated and will be removed from pandas in a future version. Use pandas.concat instead.\n",
      "  result = result.append({'Classifiers': i, 'Class': j, 'Average': avarage}, ignore_index = True)\n",
      "C:\\Users\\Giovanna\\AppData\\Local\\Temp\\ipykernel_9612\\1636128820.py:12: FutureWarning: The frame.append method is deprecated and will be removed from pandas in a future version. Use pandas.concat instead.\n",
      "  result = result.append({'Classifiers': i, 'Class': j, 'Average': avarage}, ignore_index = True)\n",
      "C:\\Users\\Giovanna\\AppData\\Local\\Temp\\ipykernel_9612\\1636128820.py:12: FutureWarning: The frame.append method is deprecated and will be removed from pandas in a future version. Use pandas.concat instead.\n",
      "  result = result.append({'Classifiers': i, 'Class': j, 'Average': avarage}, ignore_index = True)\n",
      "C:\\Users\\Giovanna\\AppData\\Local\\Temp\\ipykernel_9612\\1636128820.py:12: FutureWarning: The frame.append method is deprecated and will be removed from pandas in a future version. Use pandas.concat instead.\n",
      "  result = result.append({'Classifiers': i, 'Class': j, 'Average': avarage}, ignore_index = True)\n",
      "C:\\Users\\Giovanna\\AppData\\Local\\Temp\\ipykernel_9612\\1636128820.py:12: FutureWarning: The frame.append method is deprecated and will be removed from pandas in a future version. Use pandas.concat instead.\n",
      "  result = result.append({'Classifiers': i, 'Class': j, 'Average': avarage}, ignore_index = True)\n",
      "C:\\Users\\Giovanna\\AppData\\Local\\Temp\\ipykernel_9612\\1636128820.py:12: FutureWarning: The frame.append method is deprecated and will be removed from pandas in a future version. Use pandas.concat instead.\n",
      "  result = result.append({'Classifiers': i, 'Class': j, 'Average': avarage}, ignore_index = True)\n",
      "C:\\Users\\Giovanna\\AppData\\Local\\Temp\\ipykernel_9612\\1636128820.py:12: FutureWarning: The frame.append method is deprecated and will be removed from pandas in a future version. Use pandas.concat instead.\n",
      "  result = result.append({'Classifiers': i, 'Class': j, 'Average': avarage}, ignore_index = True)\n"
     ]
    },
    {
     "data": {
      "text/html": [
       "<div>\n",
       "<style scoped>\n",
       "    .dataframe tbody tr th:only-of-type {\n",
       "        vertical-align: middle;\n",
       "    }\n",
       "\n",
       "    .dataframe tbody tr th {\n",
       "        vertical-align: top;\n",
       "    }\n",
       "\n",
       "    .dataframe thead th {\n",
       "        text-align: right;\n",
       "    }\n",
       "</style>\n",
       "<table border=\"1\" class=\"dataframe\">\n",
       "  <thead>\n",
       "    <tr style=\"text-align: right;\">\n",
       "      <th></th>\n",
       "      <th>Classifiers</th>\n",
       "      <th>Class</th>\n",
       "      <th>Average</th>\n",
       "    </tr>\n",
       "  </thead>\n",
       "  <tbody>\n",
       "    <tr>\n",
       "      <th>0</th>\n",
       "      <td>DecisionTree</td>\n",
       "      <td>Graduate</td>\n",
       "      <td>0.820</td>\n",
       "    </tr>\n",
       "    <tr>\n",
       "      <th>1</th>\n",
       "      <td>DecisionTree</td>\n",
       "      <td>Dropout</td>\n",
       "      <td>0.732</td>\n",
       "    </tr>\n",
       "    <tr>\n",
       "      <th>2</th>\n",
       "      <td>DecisionTree</td>\n",
       "      <td>Enrolled</td>\n",
       "      <td>0.450</td>\n",
       "    </tr>\n",
       "    <tr>\n",
       "      <th>3</th>\n",
       "      <td>NaiveBayes</td>\n",
       "      <td>Graduate</td>\n",
       "      <td>0.714</td>\n",
       "    </tr>\n",
       "    <tr>\n",
       "      <th>4</th>\n",
       "      <td>NaiveBayes</td>\n",
       "      <td>Dropout</td>\n",
       "      <td>0.688</td>\n",
       "    </tr>\n",
       "    <tr>\n",
       "      <th>5</th>\n",
       "      <td>NaiveBayes</td>\n",
       "      <td>Enrolled</td>\n",
       "      <td>0.410</td>\n",
       "    </tr>\n",
       "    <tr>\n",
       "      <th>6</th>\n",
       "      <td>KNN</td>\n",
       "      <td>Graduate</td>\n",
       "      <td>0.712</td>\n",
       "    </tr>\n",
       "    <tr>\n",
       "      <th>7</th>\n",
       "      <td>KNN</td>\n",
       "      <td>Dropout</td>\n",
       "      <td>0.618</td>\n",
       "    </tr>\n",
       "    <tr>\n",
       "      <th>8</th>\n",
       "      <td>KNN</td>\n",
       "      <td>Enrolled</td>\n",
       "      <td>0.382</td>\n",
       "    </tr>\n",
       "    <tr>\n",
       "      <th>9</th>\n",
       "      <td>LogisticRegressio</td>\n",
       "      <td>Graduate</td>\n",
       "      <td>0.840</td>\n",
       "    </tr>\n",
       "    <tr>\n",
       "      <th>10</th>\n",
       "      <td>LogisticRegressio</td>\n",
       "      <td>Dropout</td>\n",
       "      <td>0.766</td>\n",
       "    </tr>\n",
       "    <tr>\n",
       "      <th>11</th>\n",
       "      <td>LogisticRegressio</td>\n",
       "      <td>Enrolled</td>\n",
       "      <td>0.484</td>\n",
       "    </tr>\n",
       "    <tr>\n",
       "      <th>12</th>\n",
       "      <td>RandomForest</td>\n",
       "      <td>Graduate</td>\n",
       "      <td>0.854</td>\n",
       "    </tr>\n",
       "    <tr>\n",
       "      <th>13</th>\n",
       "      <td>RandomForest</td>\n",
       "      <td>Dropout</td>\n",
       "      <td>0.786</td>\n",
       "    </tr>\n",
       "    <tr>\n",
       "      <th>14</th>\n",
       "      <td>RandomForest</td>\n",
       "      <td>Enrolled</td>\n",
       "      <td>0.504</td>\n",
       "    </tr>\n",
       "    <tr>\n",
       "      <th>15</th>\n",
       "      <td>SVM</td>\n",
       "      <td>Graduate</td>\n",
       "      <td>0.830</td>\n",
       "    </tr>\n",
       "    <tr>\n",
       "      <th>16</th>\n",
       "      <td>SVM</td>\n",
       "      <td>Dropout</td>\n",
       "      <td>0.748</td>\n",
       "    </tr>\n",
       "    <tr>\n",
       "      <th>17</th>\n",
       "      <td>SVM</td>\n",
       "      <td>Enrolled</td>\n",
       "      <td>0.494</td>\n",
       "    </tr>\n",
       "  </tbody>\n",
       "</table>\n",
       "</div>"
      ],
      "text/plain": [
       "          Classifiers     Class  Average\n",
       "0        DecisionTree  Graduate    0.820\n",
       "1        DecisionTree   Dropout    0.732\n",
       "2        DecisionTree  Enrolled    0.450\n",
       "3          NaiveBayes  Graduate    0.714\n",
       "4          NaiveBayes   Dropout    0.688\n",
       "5          NaiveBayes  Enrolled    0.410\n",
       "6                 KNN  Graduate    0.712\n",
       "7                 KNN   Dropout    0.618\n",
       "8                 KNN  Enrolled    0.382\n",
       "9   LogisticRegressio  Graduate    0.840\n",
       "10  LogisticRegressio   Dropout    0.766\n",
       "11  LogisticRegressio  Enrolled    0.484\n",
       "12       RandomForest  Graduate    0.854\n",
       "13       RandomForest   Dropout    0.786\n",
       "14       RandomForest  Enrolled    0.504\n",
       "15                SVM  Graduate    0.830\n",
       "16                SVM   Dropout    0.748\n",
       "17                SVM  Enrolled    0.494"
      ]
     },
     "execution_count": 126,
     "metadata": {},
     "output_type": "execute_result"
    }
   ],
   "source": [
    "average_table(classifiers, classes, df)"
   ]
  },
  {
   "cell_type": "markdown",
   "id": "dfd714e4",
   "metadata": {},
   "source": [
    "Como resultado, apresento essa tabela que mostra a média F1-score dos 5 folds para cada classe e em cada técnica."
   ]
  }
 ],
 "metadata": {
  "kernelspec": {
   "display_name": "Python 3 (ipykernel)",
   "language": "python",
   "name": "python3"
  },
  "language_info": {
   "codemirror_mode": {
    "name": "ipython",
    "version": 3
   },
   "file_extension": ".py",
   "mimetype": "text/x-python",
   "name": "python",
   "nbconvert_exporter": "python",
   "pygments_lexer": "ipython3",
   "version": "3.10.9"
  }
 },
 "nbformat": 4,
 "nbformat_minor": 5
}
