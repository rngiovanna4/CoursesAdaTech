{
 "cells": [
  {
   "cell_type": "markdown",
   "id": "7ffaaa38",
   "metadata": {},
   "source": [
    "# Pandas"
   ]
  },
  {
   "cell_type": "markdown",
   "id": "36501cfb",
   "metadata": {},
   "source": [
    "### Series"
   ]
  },
  {
   "cell_type": "code",
   "execution_count": 37,
   "id": "a1868398",
   "metadata": {},
   "outputs": [],
   "source": [
    "import pandas as pd"
   ]
  },
  {
   "cell_type": "code",
   "execution_count": 38,
   "id": "d2f68cd8",
   "metadata": {},
   "outputs": [
    {
     "name": "stdout",
     "output_type": "stream",
     "text": [
      "lista:\n",
      "[3, 5, 6, 7, 30, 55]\n",
      "\n",
      "serie do pandas:\n",
      "0     3\n",
      "1     5\n",
      "2     6\n",
      "3     7\n",
      "4    30\n",
      "5    55\n",
      "dtype: int64\n"
     ]
    }
   ],
   "source": [
    "#Diferença entre lista em uma série \n",
    "lista = [3, 5, 6, 7,30, 55]\n",
    "serie = pd.Series(lista)\n",
    "print(f'lista:\\n{lista}')\n",
    "print()\n",
    "print(f'serie do pandas:\\n{serie}')"
   ]
  },
  {
   "cell_type": "code",
   "execution_count": 39,
   "id": "e9583f1a",
   "metadata": {},
   "outputs": [
    {
     "name": "stdout",
     "output_type": "stream",
     "text": [
      "Gi       10.0\n",
      "Tiago     7.0\n",
      "Julia     4.0\n",
      "dtype: float64\n"
     ]
    }
   ],
   "source": [
    "#Podemos transformar dicionários em séries, assim o índice da série passa a ser a chave(key) do dicionário\n",
    "notas = {'Gi': 10, 'Tiago':7.0, 'Julia':4}\n",
    "serie_notas = pd.Series(notas)\n",
    "print(serie_notas)"
   ]
  },
  {
   "cell_type": "code",
   "execution_count": 40,
   "id": "109c631f",
   "metadata": {},
   "outputs": [
    {
     "name": "stdout",
     "output_type": "stream",
     "text": [
      "10.0\n"
     ]
    }
   ],
   "source": [
    "#Também podemos navegar por essa série. Para visualizar um elemento usamos:\n",
    "print(serie_notas['Gi'])"
   ]
  },
  {
   "cell_type": "code",
   "execution_count": 41,
   "id": "f572bda3",
   "metadata": {},
   "outputs": [
    {
     "name": "stdout",
     "output_type": "stream",
     "text": [
      "Média: 7.0\n",
      "Mediana: 7.0\n",
      "\n",
      "Soma: 21.0\n",
      "\n",
      "Descrição: \n",
      "count     3.0\n",
      "mean      7.0\n",
      "std       3.0\n",
      "min       4.0\n",
      "25%       5.5\n",
      "50%       7.0\n",
      "75%       8.5\n",
      "max      10.0\n",
      "dtype: float64\n"
     ]
    }
   ],
   "source": [
    "#Algumas funções disponíveis\n",
    "print(f'Média: {serie_notas.mean()}')\n",
    "print(f'Mediana: {serie_notas.median()}\\n')\n",
    "print(f'Soma: {serie_notas.sum()}\\n')\n",
    "print(f'Descrição: \\n{serie_notas.describe()}')"
   ]
  },
  {
   "cell_type": "markdown",
   "id": "737d0337",
   "metadata": {},
   "source": [
    "### Dataframes"
   ]
  },
  {
   "cell_type": "code",
   "execution_count": 71,
   "id": "d6288194",
   "metadata": {},
   "outputs": [],
   "source": [
    "#Transformando um dicionário em dataframe\n",
    "dicionario = {\n",
    "    \"Nomes\": [\"Ana\", \"Bruno\", \"Carlos\", \"Daniela\", \"Eduardo\"],\n",
    "    \"Cidades\": [\"Salvador\", \"Rio de Janeiro\", \"São Paulo\", \"Curitiba\", \"Porto Alegre\"],\n",
    "    \"CEP\": [\"40000-000\", \"20000-000\", \"01000-000\", \"80000-000\", \"90000-000\"]\n",
    "        }\n",
    "df = pd.DataFrame(dicionario)"
   ]
  },
  {
   "cell_type": "code",
   "execution_count": 72,
   "id": "22ba4f4e",
   "metadata": {},
   "outputs": [
    {
     "data": {
      "text/html": [
       "<div>\n",
       "<style scoped>\n",
       "    .dataframe tbody tr th:only-of-type {\n",
       "        vertical-align: middle;\n",
       "    }\n",
       "\n",
       "    .dataframe tbody tr th {\n",
       "        vertical-align: top;\n",
       "    }\n",
       "\n",
       "    .dataframe thead th {\n",
       "        text-align: right;\n",
       "    }\n",
       "</style>\n",
       "<table border=\"1\" class=\"dataframe\">\n",
       "  <thead>\n",
       "    <tr style=\"text-align: right;\">\n",
       "      <th></th>\n",
       "      <th>Nomes</th>\n",
       "      <th>Cidades</th>\n",
       "      <th>CEP</th>\n",
       "    </tr>\n",
       "  </thead>\n",
       "  <tbody>\n",
       "    <tr>\n",
       "      <th>0</th>\n",
       "      <td>Ana</td>\n",
       "      <td>Salvador</td>\n",
       "      <td>40000-000</td>\n",
       "    </tr>\n",
       "    <tr>\n",
       "      <th>1</th>\n",
       "      <td>Bruno</td>\n",
       "      <td>Rio de Janeiro</td>\n",
       "      <td>20000-000</td>\n",
       "    </tr>\n",
       "    <tr>\n",
       "      <th>2</th>\n",
       "      <td>Carlos</td>\n",
       "      <td>São Paulo</td>\n",
       "      <td>01000-000</td>\n",
       "    </tr>\n",
       "    <tr>\n",
       "      <th>3</th>\n",
       "      <td>Daniela</td>\n",
       "      <td>Curitiba</td>\n",
       "      <td>80000-000</td>\n",
       "    </tr>\n",
       "    <tr>\n",
       "      <th>4</th>\n",
       "      <td>Eduardo</td>\n",
       "      <td>Porto Alegre</td>\n",
       "      <td>90000-000</td>\n",
       "    </tr>\n",
       "  </tbody>\n",
       "</table>\n",
       "</div>"
      ],
      "text/plain": [
       "     Nomes         Cidades        CEP\n",
       "0      Ana        Salvador  40000-000\n",
       "1    Bruno  Rio de Janeiro  20000-000\n",
       "2   Carlos       São Paulo  01000-000\n",
       "3  Daniela        Curitiba  80000-000\n",
       "4  Eduardo    Porto Alegre  90000-000"
      ]
     },
     "execution_count": 72,
     "metadata": {},
     "output_type": "execute_result"
    }
   ],
   "source": [
    "df"
   ]
  },
  {
   "cell_type": "code",
   "execution_count": 73,
   "id": "eaffa333",
   "metadata": {},
   "outputs": [
    {
     "data": {
      "text/plain": [
       "0          Salvador\n",
       "1    Rio de Janeiro\n",
       "2         São Paulo\n",
       "3          Curitiba\n",
       "4      Porto Alegre\n",
       "Name: Cidades, dtype: object"
      ]
     },
     "execution_count": 73,
     "metadata": {},
     "output_type": "execute_result"
    }
   ],
   "source": [
    "#Para selecionar uma coluna\n",
    "df['Cidades']"
   ]
  },
  {
   "cell_type": "code",
   "execution_count": 74,
   "id": "8e0848e6",
   "metadata": {},
   "outputs": [
    {
     "data": {
      "text/plain": [
       "'Rio de Janeiro'"
      ]
     },
     "execution_count": 74,
     "metadata": {},
     "output_type": "execute_result"
    }
   ],
   "source": [
    "#Para selecionar um dado especifico de uma coluna\n",
    "df['Cidades'][1]"
   ]
  },
  {
   "cell_type": "markdown",
   "id": "dbb98995",
   "metadata": {},
   "source": [
    "### Adicionando uma coluna"
   ]
  },
  {
   "cell_type": "code",
   "execution_count": 75,
   "id": "5795c674",
   "metadata": {},
   "outputs": [],
   "source": [
    "#Adicionando uma nova coluna nessa tabela\n",
    "df['Celsius'] = [25, 30, 35, 30, 45] "
   ]
  },
  {
   "cell_type": "code",
   "execution_count": 65,
   "id": "6b749721",
   "metadata": {},
   "outputs": [
    {
     "data": {
      "text/html": [
       "<div>\n",
       "<style scoped>\n",
       "    .dataframe tbody tr th:only-of-type {\n",
       "        vertical-align: middle;\n",
       "    }\n",
       "\n",
       "    .dataframe tbody tr th {\n",
       "        vertical-align: top;\n",
       "    }\n",
       "\n",
       "    .dataframe thead th {\n",
       "        text-align: right;\n",
       "    }\n",
       "</style>\n",
       "<table border=\"1\" class=\"dataframe\">\n",
       "  <thead>\n",
       "    <tr style=\"text-align: right;\">\n",
       "      <th></th>\n",
       "      <th>Nomes</th>\n",
       "      <th>Cidades</th>\n",
       "      <th>CEP</th>\n",
       "      <th>Celsius</th>\n",
       "    </tr>\n",
       "  </thead>\n",
       "  <tbody>\n",
       "    <tr>\n",
       "      <th>0</th>\n",
       "      <td>Ana</td>\n",
       "      <td>Salvador</td>\n",
       "      <td>40000-000</td>\n",
       "      <td>25</td>\n",
       "    </tr>\n",
       "    <tr>\n",
       "      <th>1</th>\n",
       "      <td>Bruno</td>\n",
       "      <td>Rio de Janeiro</td>\n",
       "      <td>20000-000</td>\n",
       "      <td>30</td>\n",
       "    </tr>\n",
       "    <tr>\n",
       "      <th>2</th>\n",
       "      <td>Carlos</td>\n",
       "      <td>São Paulo</td>\n",
       "      <td>01000-000</td>\n",
       "      <td>35</td>\n",
       "    </tr>\n",
       "    <tr>\n",
       "      <th>3</th>\n",
       "      <td>Daniela</td>\n",
       "      <td>Curitiba</td>\n",
       "      <td>80000-000</td>\n",
       "      <td>30</td>\n",
       "    </tr>\n",
       "    <tr>\n",
       "      <th>4</th>\n",
       "      <td>Eduardo</td>\n",
       "      <td>Porto Alegre</td>\n",
       "      <td>90000-000</td>\n",
       "      <td>45</td>\n",
       "    </tr>\n",
       "    <tr>\n",
       "      <th>5</th>\n",
       "      <td>Matheus</td>\n",
       "      <td>Barreiras</td>\n",
       "      <td>50000-000</td>\n",
       "      <td>40</td>\n",
       "    </tr>\n",
       "  </tbody>\n",
       "</table>\n",
       "</div>"
      ],
      "text/plain": [
       "     Nomes         Cidades        CEP  Celsius\n",
       "0      Ana        Salvador  40000-000       25\n",
       "1    Bruno  Rio de Janeiro  20000-000       30\n",
       "2   Carlos       São Paulo  01000-000       35\n",
       "3  Daniela        Curitiba  80000-000       30\n",
       "4  Eduardo    Porto Alegre  90000-000       45\n",
       "5  Matheus       Barreiras  50000-000       40"
      ]
     },
     "execution_count": 65,
     "metadata": {},
     "output_type": "execute_result"
    }
   ],
   "source": [
    "df"
   ]
  },
  {
   "cell_type": "code",
   "execution_count": 76,
   "id": "49a0b830",
   "metadata": {},
   "outputs": [
    {
     "data": {
      "text/plain": [
       "33.0"
      ]
     },
     "execution_count": 76,
     "metadata": {},
     "output_type": "execute_result"
    }
   ],
   "source": [
    "#Também posso realizar operações matemáticas com aqueles realizados em series\n",
    "df['Celsius'].mean()"
   ]
  },
  {
   "cell_type": "code",
   "execution_count": 77,
   "id": "8eaabf48",
   "metadata": {},
   "outputs": [],
   "source": [
    "#Filtragem. Posso criar uma váriavel para receber essa filtragem e depois imprimi-la\n",
    "filtro = df['Celsius'] == 30"
   ]
  },
  {
   "cell_type": "code",
   "execution_count": 78,
   "id": "8f59f5de",
   "metadata": {},
   "outputs": [
    {
     "data": {
      "text/html": [
       "<div>\n",
       "<style scoped>\n",
       "    .dataframe tbody tr th:only-of-type {\n",
       "        vertical-align: middle;\n",
       "    }\n",
       "\n",
       "    .dataframe tbody tr th {\n",
       "        vertical-align: top;\n",
       "    }\n",
       "\n",
       "    .dataframe thead th {\n",
       "        text-align: right;\n",
       "    }\n",
       "</style>\n",
       "<table border=\"1\" class=\"dataframe\">\n",
       "  <thead>\n",
       "    <tr style=\"text-align: right;\">\n",
       "      <th></th>\n",
       "      <th>Nomes</th>\n",
       "      <th>Cidades</th>\n",
       "      <th>CEP</th>\n",
       "      <th>Celsius</th>\n",
       "    </tr>\n",
       "  </thead>\n",
       "  <tbody>\n",
       "    <tr>\n",
       "      <th>1</th>\n",
       "      <td>Bruno</td>\n",
       "      <td>Rio de Janeiro</td>\n",
       "      <td>20000-000</td>\n",
       "      <td>30</td>\n",
       "    </tr>\n",
       "    <tr>\n",
       "      <th>3</th>\n",
       "      <td>Daniela</td>\n",
       "      <td>Curitiba</td>\n",
       "      <td>80000-000</td>\n",
       "      <td>30</td>\n",
       "    </tr>\n",
       "  </tbody>\n",
       "</table>\n",
       "</div>"
      ],
      "text/plain": [
       "     Nomes         Cidades        CEP  Celsius\n",
       "1    Bruno  Rio de Janeiro  20000-000       30\n",
       "3  Daniela        Curitiba  80000-000       30"
      ]
     },
     "execution_count": 78,
     "metadata": {},
     "output_type": "execute_result"
    }
   ],
   "source": [
    "#Assim eu consigo imprimir apenas os lugares em que O Celsius são iguais a 30\n",
    "df[filtro]"
   ]
  },
  {
   "cell_type": "markdown",
   "id": "f2d95731",
   "metadata": {},
   "source": [
    "### Adicionando uma linha"
   ]
  },
  {
   "cell_type": "code",
   "execution_count": 79,
   "id": "70341274",
   "metadata": {},
   "outputs": [
    {
     "name": "stderr",
     "output_type": "stream",
     "text": [
      "C:\\Users\\Giovanna\\AppData\\Local\\Temp\\ipykernel_9732\\3310644161.py:2: FutureWarning: The frame.append method is deprecated and will be removed from pandas in a future version. Use pandas.concat instead.\n",
      "  df = df.append({'Nomes':'Matheus', 'Cidades': 'Macapá', 'CEP': '50000-000', 'Celsius': 40}, ignore_index = True)\n"
     ]
    }
   ],
   "source": [
    "#Para adicionar uma nova informação, podemos criar um novo dicionário e usar o append()\n",
    "df = df.append({'Nomes':'Matheus', 'Cidades': 'Macapá', 'CEP': '50000-000', 'Celsius': 40}, ignore_index = True)"
   ]
  },
  {
   "cell_type": "code",
   "execution_count": 80,
   "id": "26c50840",
   "metadata": {},
   "outputs": [
    {
     "data": {
      "text/html": [
       "<div>\n",
       "<style scoped>\n",
       "    .dataframe tbody tr th:only-of-type {\n",
       "        vertical-align: middle;\n",
       "    }\n",
       "\n",
       "    .dataframe tbody tr th {\n",
       "        vertical-align: top;\n",
       "    }\n",
       "\n",
       "    .dataframe thead th {\n",
       "        text-align: right;\n",
       "    }\n",
       "</style>\n",
       "<table border=\"1\" class=\"dataframe\">\n",
       "  <thead>\n",
       "    <tr style=\"text-align: right;\">\n",
       "      <th></th>\n",
       "      <th>Nomes</th>\n",
       "      <th>Cidades</th>\n",
       "      <th>CEP</th>\n",
       "      <th>Celsius</th>\n",
       "    </tr>\n",
       "  </thead>\n",
       "  <tbody>\n",
       "    <tr>\n",
       "      <th>0</th>\n",
       "      <td>Ana</td>\n",
       "      <td>Salvador</td>\n",
       "      <td>40000-000</td>\n",
       "      <td>25</td>\n",
       "    </tr>\n",
       "    <tr>\n",
       "      <th>1</th>\n",
       "      <td>Bruno</td>\n",
       "      <td>Rio de Janeiro</td>\n",
       "      <td>20000-000</td>\n",
       "      <td>30</td>\n",
       "    </tr>\n",
       "    <tr>\n",
       "      <th>2</th>\n",
       "      <td>Carlos</td>\n",
       "      <td>São Paulo</td>\n",
       "      <td>01000-000</td>\n",
       "      <td>35</td>\n",
       "    </tr>\n",
       "    <tr>\n",
       "      <th>3</th>\n",
       "      <td>Daniela</td>\n",
       "      <td>Curitiba</td>\n",
       "      <td>80000-000</td>\n",
       "      <td>30</td>\n",
       "    </tr>\n",
       "    <tr>\n",
       "      <th>4</th>\n",
       "      <td>Eduardo</td>\n",
       "      <td>Porto Alegre</td>\n",
       "      <td>90000-000</td>\n",
       "      <td>45</td>\n",
       "    </tr>\n",
       "    <tr>\n",
       "      <th>5</th>\n",
       "      <td>Matheus</td>\n",
       "      <td>Macapá</td>\n",
       "      <td>50000-000</td>\n",
       "      <td>40</td>\n",
       "    </tr>\n",
       "  </tbody>\n",
       "</table>\n",
       "</div>"
      ],
      "text/plain": [
       "     Nomes         Cidades        CEP  Celsius\n",
       "0      Ana        Salvador  40000-000       25\n",
       "1    Bruno  Rio de Janeiro  20000-000       30\n",
       "2   Carlos       São Paulo  01000-000       35\n",
       "3  Daniela        Curitiba  80000-000       30\n",
       "4  Eduardo    Porto Alegre  90000-000       45\n",
       "5  Matheus          Macapá  50000-000       40"
      ]
     },
     "execution_count": 80,
     "metadata": {},
     "output_type": "execute_result"
    }
   ],
   "source": [
    "df #Nova tabela"
   ]
  },
  {
   "cell_type": "markdown",
   "id": "a6164dcd",
   "metadata": {},
   "source": [
    "### Editar um dado"
   ]
  },
  {
   "cell_type": "code",
   "execution_count": 81,
   "id": "45e6ae77",
   "metadata": {},
   "outputs": [
    {
     "name": "stdout",
     "output_type": "stream",
     "text": [
      "     Nomes Cidades        CEP  Celsius\n",
      "5  Matheus  Macapá  50000-000       40\n"
     ]
    }
   ],
   "source": [
    "#1ª seleciona o dado usando uma máscara\n",
    "mask_edit = df['Nomes'] == 'Matheus'\n",
    "print(df[mask_edit])"
   ]
  },
  {
   "cell_type": "code",
   "execution_count": 82,
   "id": "057d934b",
   "metadata": {},
   "outputs": [],
   "source": [
    "#2ª editar o dado usando o loc\n",
    "df.loc[mask_edit, 'Cidades'] = 'Barreiras'"
   ]
  },
  {
   "cell_type": "code",
   "execution_count": 83,
   "id": "3bb551ba",
   "metadata": {},
   "outputs": [
    {
     "data": {
      "text/html": [
       "<div>\n",
       "<style scoped>\n",
       "    .dataframe tbody tr th:only-of-type {\n",
       "        vertical-align: middle;\n",
       "    }\n",
       "\n",
       "    .dataframe tbody tr th {\n",
       "        vertical-align: top;\n",
       "    }\n",
       "\n",
       "    .dataframe thead th {\n",
       "        text-align: right;\n",
       "    }\n",
       "</style>\n",
       "<table border=\"1\" class=\"dataframe\">\n",
       "  <thead>\n",
       "    <tr style=\"text-align: right;\">\n",
       "      <th></th>\n",
       "      <th>Nomes</th>\n",
       "      <th>Cidades</th>\n",
       "      <th>CEP</th>\n",
       "      <th>Celsius</th>\n",
       "    </tr>\n",
       "  </thead>\n",
       "  <tbody>\n",
       "    <tr>\n",
       "      <th>0</th>\n",
       "      <td>Ana</td>\n",
       "      <td>Salvador</td>\n",
       "      <td>40000-000</td>\n",
       "      <td>25</td>\n",
       "    </tr>\n",
       "    <tr>\n",
       "      <th>1</th>\n",
       "      <td>Bruno</td>\n",
       "      <td>Rio de Janeiro</td>\n",
       "      <td>20000-000</td>\n",
       "      <td>30</td>\n",
       "    </tr>\n",
       "    <tr>\n",
       "      <th>2</th>\n",
       "      <td>Carlos</td>\n",
       "      <td>São Paulo</td>\n",
       "      <td>01000-000</td>\n",
       "      <td>35</td>\n",
       "    </tr>\n",
       "    <tr>\n",
       "      <th>3</th>\n",
       "      <td>Daniela</td>\n",
       "      <td>Curitiba</td>\n",
       "      <td>80000-000</td>\n",
       "      <td>30</td>\n",
       "    </tr>\n",
       "    <tr>\n",
       "      <th>4</th>\n",
       "      <td>Eduardo</td>\n",
       "      <td>Porto Alegre</td>\n",
       "      <td>90000-000</td>\n",
       "      <td>45</td>\n",
       "    </tr>\n",
       "    <tr>\n",
       "      <th>5</th>\n",
       "      <td>Matheus</td>\n",
       "      <td>Barreiras</td>\n",
       "      <td>50000-000</td>\n",
       "      <td>40</td>\n",
       "    </tr>\n",
       "  </tbody>\n",
       "</table>\n",
       "</div>"
      ],
      "text/plain": [
       "     Nomes         Cidades        CEP  Celsius\n",
       "0      Ana        Salvador  40000-000       25\n",
       "1    Bruno  Rio de Janeiro  20000-000       30\n",
       "2   Carlos       São Paulo  01000-000       35\n",
       "3  Daniela        Curitiba  80000-000       30\n",
       "4  Eduardo    Porto Alegre  90000-000       45\n",
       "5  Matheus       Barreiras  50000-000       40"
      ]
     },
     "execution_count": 83,
     "metadata": {},
     "output_type": "execute_result"
    }
   ],
   "source": [
    "#Resultado após a edição\n",
    "df"
   ]
  }
 ],
 "metadata": {
  "kernelspec": {
   "display_name": "Python 3 (ipykernel)",
   "language": "python",
   "name": "python3"
  },
  "language_info": {
   "codemirror_mode": {
    "name": "ipython",
    "version": 3
   },
   "file_extension": ".py",
   "mimetype": "text/x-python",
   "name": "python",
   "nbconvert_exporter": "python",
   "pygments_lexer": "ipython3",
   "version": "3.10.9"
  }
 },
 "nbformat": 4,
 "nbformat_minor": 5
}
