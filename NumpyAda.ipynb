{
 "cells": [
  {
   "cell_type": "markdown",
   "id": "0e90a13c",
   "metadata": {},
   "source": [
    "# Manipulação de Array"
   ]
  },
  {
   "cell_type": "markdown",
   "id": "2a447a24",
   "metadata": {},
   "source": [
    "### Array"
   ]
  },
  {
   "cell_type": "code",
   "execution_count": 1,
   "id": "c0aa0c33",
   "metadata": {},
   "outputs": [],
   "source": [
    "import numpy as np"
   ]
  },
  {
   "cell_type": "code",
   "execution_count": 47,
   "id": "86f1dbc5",
   "metadata": {},
   "outputs": [],
   "source": [
    "lista = [1,2,3,4,5,6]\n",
    "array = np.array(lista)"
   ]
  },
  {
   "cell_type": "code",
   "execution_count": 48,
   "id": "f8eb3025",
   "metadata": {},
   "outputs": [
    {
     "name": "stdout",
     "output_type": "stream",
     "text": [
      "[1, 2, 3, 4, 5, 6]\n",
      "[1 2 3 4 5 6]\n"
     ]
    }
   ],
   "source": [
    "#Diferença entre lista e array\n",
    "print (lista)\n",
    "print(array)"
   ]
  },
  {
   "cell_type": "code",
   "execution_count": 4,
   "id": "9e1aa808",
   "metadata": {},
   "outputs": [
    {
     "name": "stdout",
     "output_type": "stream",
     "text": [
      "[0. 0. 0. 0. 0. 0. 0. 0. 0. 0. 0. 0. 0. 0. 0.]\n"
     ]
    }
   ],
   "source": [
    "#Preenchendo uma array de zeros\n",
    "arr_zeros = np.zeros(15)\n",
    "print(arr_zeros)"
   ]
  },
  {
   "cell_type": "code",
   "execution_count": 49,
   "id": "69ad2715",
   "metadata": {},
   "outputs": [
    {
     "name": "stdout",
     "output_type": "stream",
     "text": [
      "1\n"
     ]
    }
   ],
   "source": [
    "print(array[0])"
   ]
  },
  {
   "cell_type": "code",
   "execution_count": 50,
   "id": "a73e16a9",
   "metadata": {},
   "outputs": [],
   "source": [
    "#editar o texto\n",
    "array [0] = 20"
   ]
  },
  {
   "cell_type": "code",
   "execution_count": 51,
   "id": "f4aef646",
   "metadata": {},
   "outputs": [
    {
     "data": {
      "text/plain": [
       "array([20,  2,  3,  4,  5,  6])"
      ]
     },
     "execution_count": 51,
     "metadata": {},
     "output_type": "execute_result"
    }
   ],
   "source": [
    "array"
   ]
  },
  {
   "cell_type": "markdown",
   "id": "e1ed5adf",
   "metadata": {},
   "source": [
    "### Matriz"
   ]
  },
  {
   "cell_type": "code",
   "execution_count": 8,
   "id": "0eb00416",
   "metadata": {},
   "outputs": [],
   "source": [
    "#Matriz de zeros\n",
    "matriz_zeros = np.zeros((5,3))"
   ]
  },
  {
   "cell_type": "code",
   "execution_count": 9,
   "id": "db89f960",
   "metadata": {},
   "outputs": [
    {
     "data": {
      "text/plain": [
       "array([[0., 0., 0.],\n",
       "       [0., 0., 0.],\n",
       "       [0., 0., 0.],\n",
       "       [0., 0., 0.],\n",
       "       [0., 0., 0.]])"
      ]
     },
     "execution_count": 9,
     "metadata": {},
     "output_type": "execute_result"
    }
   ],
   "source": [
    "matriz_zeros"
   ]
  },
  {
   "cell_type": "markdown",
   "id": "d626ed93",
   "metadata": {},
   "source": [
    "Tendo em vista um array com notas é possível fazer as seguintes operações com funções NumPy"
   ]
  },
  {
   "cell_type": "code",
   "execution_count": 52,
   "id": "2df632bc",
   "metadata": {},
   "outputs": [
    {
     "name": "stdout",
     "output_type": "stream",
     "text": [
      "<class 'numpy.ndarray'>\n",
      "Maxímo 55\n",
      "Mínimo 22\n",
      "Desvio Padrão 12.723556455994876\n",
      "Media 37.666666666666664\n",
      "Posicao menor 3\n"
     ]
    }
   ],
   "source": [
    "\n",
    "notas = [30,33,55,22,31,55]\n",
    "notas = np.array(notas)\n",
    "print(type(notas))\n",
    "print('Maxímo', notas.max())\n",
    "print('Mínimo', notas.min())\n",
    "print('Desvio Padrão', notas.std())\n",
    "print('Media', notas.mean())\n",
    "print('Posicao menor', notas.argmin())"
   ]
  },
  {
   "cell_type": "markdown",
   "id": "7a581f53",
   "metadata": {},
   "source": [
    "## Exercício"
   ]
  },
  {
   "cell_type": "markdown",
   "id": "ebb11d54",
   "metadata": {},
   "source": [
    "### 1º Peça ao usuário para digitar alguns números, transforme em array e utilize funções do Numpy"
   ]
  },
  {
   "cell_type": "code",
   "execution_count": 11,
   "id": "53f67b26",
   "metadata": {},
   "outputs": [
    {
     "name": "stdout",
     "output_type": "stream",
     "text": [
      "Digite 10 números\n",
      "1º número 2\n",
      "2º número 4\n",
      "3º número 44\n",
      "4º número 5\n",
      "5º número 33\n",
      "6º número 22\n",
      "7º número 33\n",
      "8º número 11\n",
      "9º número 0\n",
      "10º número -8\n"
     ]
    }
   ],
   "source": [
    "print ('Digite 10 números')\n",
    "lista = []\n",
    "for i in range(10):\n",
    "    i = input(f'{i+1}º número ')\n",
    "    lista.append(int(i))"
   ]
  },
  {
   "cell_type": "code",
   "execution_count": 23,
   "id": "0686448b",
   "metadata": {},
   "outputs": [
    {
     "data": {
      "text/plain": [
       "array([ 2,  4, 44,  5, 33, 22, 33, 11,  0, -8])"
      ]
     },
     "execution_count": 23,
     "metadata": {},
     "output_type": "execute_result"
    }
   ],
   "source": [
    "lista"
   ]
  },
  {
   "cell_type": "code",
   "execution_count": 24,
   "id": "2d66b964",
   "metadata": {},
   "outputs": [],
   "source": [
    "lista = np.array(lista)"
   ]
  },
  {
   "cell_type": "code",
   "execution_count": 25,
   "id": "17b40513",
   "metadata": {},
   "outputs": [
    {
     "data": {
      "text/plain": [
       "array([ 2,  4, 44,  5, 33, 22, 33, 11,  0, -8])"
      ]
     },
     "execution_count": 25,
     "metadata": {},
     "output_type": "execute_result"
    }
   ],
   "source": [
    "lista"
   ]
  },
  {
   "cell_type": "code",
   "execution_count": 26,
   "id": "26e9b402",
   "metadata": {},
   "outputs": [
    {
     "name": "stdout",
     "output_type": "stream",
     "text": [
      "Maxímo 44\n",
      "Mínimo -8\n",
      "Desvio padrão 16.42071862008481\n",
      "Média 14.6\n",
      "Onde está o número de menor posição? Está na 2 º posição\n"
     ]
    }
   ],
   "source": [
    "print('Maxímo',lista.max())\n",
    "print('Mínimo',lista.min())\n",
    "print('Desvio padrão', lista.std())\n",
    "print('Média', lista.mean())\n",
    "print('Onde está o número de menor posição? Está na', lista.argmax(), 'º posição')"
   ]
  },
  {
   "cell_type": "markdown",
   "id": "62f576e8",
   "metadata": {},
   "source": [
    "# Máscaras Booleana"
   ]
  },
  {
   "cell_type": "markdown",
   "id": "90f36e37",
   "metadata": {},
   "source": [
    "A máscara Booleana funciona como um filtro"
   ]
  },
  {
   "cell_type": "code",
   "execution_count": 34,
   "id": "0bdca7d4",
   "metadata": {},
   "outputs": [],
   "source": [
    "is_covid_positive = np.array(['yyy','n','yyy','yyy','n', 'n','n'])"
   ]
  },
  {
   "cell_type": "code",
   "execution_count": 35,
   "id": "7509b380",
   "metadata": {},
   "outputs": [],
   "source": [
    "#Seleciona apenas os indices com esse valor:\n",
    "mask = (is_covid_positive == 'yyy')"
   ]
  },
  {
   "cell_type": "code",
   "execution_count": 36,
   "id": "08539ae8",
   "metadata": {},
   "outputs": [],
   "source": [
    "#Editando todos os valores com valor \"yyy\" para \"C19\". OBS: Só da para substituir por um string com o mesmo número de digitos\n",
    "is_covid_positive[mask] = 'C19'"
   ]
  },
  {
   "cell_type": "code",
   "execution_count": 37,
   "id": "68a3aa6e",
   "metadata": {},
   "outputs": [
    {
     "name": "stdout",
     "output_type": "stream",
     "text": [
      "['C19' 'C19' 'C19']\n"
     ]
    }
   ],
   "source": [
    "print(is_covid_positive[mask])"
   ]
  },
  {
   "cell_type": "code",
   "execution_count": 38,
   "id": "d2ca5d23",
   "metadata": {},
   "outputs": [
    {
     "name": "stdout",
     "output_type": "stream",
     "text": [
      "['C19' 'n' 'C19' 'C19' 'n' 'n' 'n']\n"
     ]
    }
   ],
   "source": [
    "#Imprimindo a nova lista\n",
    "print(is_covid_positive)"
   ]
  },
  {
   "cell_type": "code",
   "execution_count": 39,
   "id": "943b4670",
   "metadata": {},
   "outputs": [],
   "source": [
    "#Criando uma váriavel para receber os valores da máscara\n",
    "positivo = is_covid_positive[is_covid_positive == 'C19']"
   ]
  },
  {
   "cell_type": "code",
   "execution_count": 40,
   "id": "64254f1b",
   "metadata": {},
   "outputs": [
    {
     "data": {
      "text/plain": [
       "array(['C19', 'C19', 'C19'], dtype='<U3')"
      ]
     },
     "execution_count": 40,
     "metadata": {},
     "output_type": "execute_result"
    }
   ],
   "source": [
    "positivo"
   ]
  }
 ],
 "metadata": {
  "kernelspec": {
   "display_name": "Python 3 (ipykernel)",
   "language": "python",
   "name": "python3"
  },
  "language_info": {
   "codemirror_mode": {
    "name": "ipython",
    "version": 3
   },
   "file_extension": ".py",
   "mimetype": "text/x-python",
   "name": "python",
   "nbconvert_exporter": "python",
   "pygments_lexer": "ipython3",
   "version": "3.10.9"
  }
 },
 "nbformat": 4,
 "nbformat_minor": 5
}
